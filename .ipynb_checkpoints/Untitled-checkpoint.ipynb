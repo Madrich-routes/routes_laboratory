{
 "cells": [
  {
   "cell_type": "code",
   "execution_count": 28,
   "metadata": {},
   "outputs": [],
   "source": [
    "import pandas as pd\n",
    "\n",
    "apps = pd.read_excel('data/applications.xlsx', header=1, usecols=range(1, 19))\n",
    "cars = pd.read_excel('data/vehicles.xlsx', header=1, usecols=range(1, 10))"
   ]
  },
  {
   "cell_type": "code",
   "execution_count": 30,
   "metadata": {},
   "outputs": [
    {
     "data": {
      "text/html": [
       "<div>\n",
       "<style scoped>\n",
       "    .dataframe tbody tr th:only-of-type {\n",
       "        vertical-align: middle;\n",
       "    }\n",
       "\n",
       "    .dataframe tbody tr th {\n",
       "        vertical-align: top;\n",
       "    }\n",
       "\n",
       "    .dataframe thead th {\n",
       "        text-align: right;\n",
       "    }\n",
       "</style>\n",
       "<table border=\"1\" class=\"dataframe\">\n",
       "  <thead>\n",
       "    <tr style=\"text-align: right;\">\n",
       "      <th></th>\n",
       "      <th>ID контейнерной площадки</th>\n",
       "      <th>Адрес площадки</th>\n",
       "      <th>Координаты (широта, долгота)</th>\n",
       "      <th>Масса отходов (тонн)</th>\n",
       "      <th>Объем отходов (куб.м)</th>\n",
       "      <th>Время приезда (не раньше)</th>\n",
       "      <th>Время приезда (не позднее)</th>\n",
       "      <th>Время погрузки (секунды)</th>\n",
       "      <th>Тип контейнеров</th>\n",
       "      <th>Место выгрузки (наименование)</th>\n",
       "      <th>Координаты выгрузки (широта, долгота)</th>\n",
       "      <th>Unnamed: 12</th>\n",
       "      <th>№ запланированного рейса</th>\n",
       "      <th>ID запланированной машины</th>\n",
       "      <th>Порядковый номер точки в рейсе</th>\n",
       "      <th>Планируемый пробег до данной точки в рейсе</th>\n",
       "      <th>Планируемое время посещения данной точки</th>\n",
       "    </tr>\n",
       "  </thead>\n",
       "  <tbody>\n",
       "    <tr>\n",
       "      <th>0</th>\n",
       "      <td>1936</td>\n",
       "      <td>Вологодская область, Бабаево, улица Пушкина, 78</td>\n",
       "      <td>59.384575,35.983366</td>\n",
       "      <td>0.132</td>\n",
       "      <td>1.1</td>\n",
       "      <td>06:00:00</td>\n",
       "      <td>16:00:00</td>\n",
       "      <td>180.0</td>\n",
       "      <td>1.1</td>\n",
       "      <td>Сортировка Чистый След</td>\n",
       "      <td>59.149566,37.919789</td>\n",
       "      <td>NaN</td>\n",
       "      <td>NaN</td>\n",
       "      <td>NaN</td>\n",
       "      <td>NaN</td>\n",
       "      <td>NaN</td>\n",
       "      <td>NaN</td>\n",
       "    </tr>\n",
       "  </tbody>\n",
       "</table>\n",
       "</div>"
      ],
      "text/plain": [
       "   ID контейнерной площадки                                   Адрес площадки  \\\n",
       "0                      1936  Вологодская область, Бабаево, улица Пушкина, 78   \n",
       "\n",
       "  Координаты (широта, долгота)  Масса отходов (тонн)  Объем отходов (куб.м)  \\\n",
       "0          59.384575,35.983366                 0.132                    1.1   \n",
       "\n",
       "  Время приезда (не раньше) Время приезда (не позднее)  \\\n",
       "0                  06:00:00                   16:00:00   \n",
       "\n",
       "   Время погрузки (секунды)  Тип контейнеров Место выгрузки (наименование)  \\\n",
       "0                     180.0              1.1        Сортировка Чистый След   \n",
       "\n",
       "  Координаты выгрузки (широта, долгота)  Unnamed: 12  \\\n",
       "0                   59.149566,37.919789          NaN   \n",
       "\n",
       "   № запланированного рейса  ID запланированной машины  \\\n",
       "0                       NaN                        NaN   \n",
       "\n",
       "   Порядковый номер точки в рейсе  Планируемый пробег до данной точки в рейсе  \\\n",
       "0                             NaN                                         NaN   \n",
       "\n",
       "   Планируемое время посещения данной точки  \n",
       "0                                       NaN  "
      ]
     },
     "execution_count": 30,
     "metadata": {},
     "output_type": "execute_result"
    }
   ],
   "source": [
    "apps.head(1)"
   ]
  },
  {
   "cell_type": "code",
   "execution_count": null,
   "metadata": {},
   "outputs": [],
   "source": []
  },
  {
   "cell_type": "code",
   "execution_count": 52,
   "metadata": {},
   "outputs": [
    {
     "name": "stdout",
     "output_type": "stream",
     "text": [
      "тонн/куб.м\n"
     ]
    }
   ],
   "source": [
    "df = apps.copy()\n",
    "df.dropna(axis=1, how='all', inplace=True)  # дропаем пустые столбцы\n",
    "df.dropna(axis=0, how='all', inplace=True)  # дропаем пустые колонки\n",
    "df.columns = list(range(len(df.columns)))\n",
    "df.drop([0, 1, 9], axis=1, inplace=True)\n",
    "df.columns = ['xy', 'm', 'V', 'from_t', 'to_t', 'load_t', 'types', 'unload']\n",
    "\n",
    "# df.head()\n",
    "print('тонн/куб.м')\n",
    "(df[\"m\"]/df['V']).describe()"
   ]
  },
  {
   "cell_type": "code",
   "execution_count": 51,
   "metadata": {},
   "outputs": [
    {
     "data": {
      "text/plain": [
       "count    995.000000\n",
       "mean       0.187310\n",
       "std        0.016841\n",
       "min        0.180000\n",
       "25%        0.183333\n",
       "50%        0.183333\n",
       "75%        0.183333\n",
       "max        0.250000\n",
       "dtype: float64"
      ]
     },
     "execution_count": 51,
     "metadata": {},
     "output_type": "execute_result"
    }
   ],
   "source": [
    "df = cars.copy()\n",
    "df.dropna(axis=1, how='all', inplace=True)  # дропаем пустые столбцы\n",
    "df.dropna(axis=0, how='all', inplace=True)  # дропаем пустые колонки\n",
    "df.columns = list(range(len(df.columns)))\n",
    "df.drop([0, 1, 6], axis=1, inplace=True)\n",
    "df.columns = ['max_m', 'max_V', 'from_t', 'to_t', 'base_xy', 'types']\n",
    "\n",
    "print('тонн/куб.м')\n",
    "(df[\"max_m\"]/df['max_V']).describe()"
   ]
  },
  {
   "cell_type": "code",
   "execution_count": null,
   "metadata": {},
   "outputs": [],
   "source": []
  }
 ],
 "metadata": {
  "kernelspec": {
   "display_name": "Python 3",
   "language": "python",
   "name": "python3"
  },
  "language_info": {
   "codemirror_mode": {
    "name": "ipython",
    "version": 3
   },
   "file_extension": ".py",
   "mimetype": "text/x-python",
   "name": "python",
   "nbconvert_exporter": "python",
   "pygments_lexer": "ipython3",
   "version": "3.7.2"
  }
 },
 "nbformat": 4,
 "nbformat_minor": 2
}
