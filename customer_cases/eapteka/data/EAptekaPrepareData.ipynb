{
 "cells": [
  {
   "cell_type": "code",
   "execution_count": 1,
   "metadata": {},
   "outputs": [],
   "source": [
    "import pandas as pd\n",
    "import numpy as np\n",
    "import sys\n",
    "\n",
    "import gzip, pickle"
   ]
  },
  {
   "cell_type": "code",
   "execution_count": 2,
   "metadata": {},
   "outputs": [],
   "source": [
    "sys.path.append(\"./../../../../routes_laboratory/\")"
   ]
  },
  {
   "cell_type": "code",
   "execution_count": 3,
   "metadata": {},
   "outputs": [],
   "source": [
    "from models.rich_vrp.agent_type import AgentType\n",
    "from models.rich_vrp.agent import Agent\n",
    "from models.rich_vrp.job import Job\n",
    "from models.point import Point\n",
    "from dataclasses import dataclass"
   ]
  },
  {
   "cell_type": "markdown",
   "metadata": {},
   "source": [
    "# Агенты"
   ]
  },
  {
   "cell_type": "code",
   "execution_count": 4,
   "metadata": {},
   "outputs": [],
   "source": [
    "curier_xl = pd.read_excel('./Курьеры_13.xlsx')"
   ]
  },
  {
   "cell_type": "code",
   "execution_count": 5,
   "metadata": {},
   "outputs": [
    {
     "data": {
      "text/html": [
       "<div>\n",
       "<style scoped>\n",
       "    .dataframe tbody tr th:only-of-type {\n",
       "        vertical-align: middle;\n",
       "    }\n",
       "\n",
       "    .dataframe tbody tr th {\n",
       "        vertical-align: top;\n",
       "    }\n",
       "\n",
       "    .dataframe thead th {\n",
       "        text-align: right;\n",
       "    }\n",
       "</style>\n",
       "<table border=\"1\" class=\"dataframe\">\n",
       "  <thead>\n",
       "    <tr style=\"text-align: right;\">\n",
       "      <th></th>\n",
       "      <th>Интервал работы</th>\n",
       "      <th>Сотрудник</th>\n",
       "      <th>Должность</th>\n",
       "      <th>Стоимость 1 заказа</th>\n",
       "      <th>Приоритет</th>\n",
       "    </tr>\n",
       "  </thead>\n",
       "  <tbody>\n",
       "    <tr>\n",
       "      <th>0</th>\n",
       "      <td>16-22</td>\n",
       "      <td>Акперов Ильгар Натиг Оглы</td>\n",
       "      <td>Курьер</td>\n",
       "      <td>5</td>\n",
       "      <td>NaN</td>\n",
       "    </tr>\n",
       "    <tr>\n",
       "      <th>1</th>\n",
       "      <td>9-21</td>\n",
       "      <td>Бердников Евгений Леонидович</td>\n",
       "      <td>Водитель</td>\n",
       "      <td>10</td>\n",
       "      <td>NaN</td>\n",
       "    </tr>\n",
       "  </tbody>\n",
       "</table>\n",
       "</div>"
      ],
      "text/plain": [
       "  Интервал работы                     Сотрудник Должность  Стоимость 1 заказа  \\\n",
       "0           16-22     Акперов Ильгар Натиг Оглы    Курьер                   5   \n",
       "1            9-21  Бердников Евгений Леонидович  Водитель                  10   \n",
       "\n",
       "   Приоритет  \n",
       "0        NaN  \n",
       "1        NaN  "
      ]
     },
     "execution_count": 5,
     "metadata": {},
     "output_type": "execute_result"
    }
   ],
   "source": [
    "curier_xl.head(2)"
   ]
  },
  {
   "cell_type": "code",
   "execution_count": 6,
   "metadata": {},
   "outputs": [],
   "source": [
    "@dataclass\n",
    "class EAptekaAgent(AgentType):\n",
    "    id : str\n",
    "    name : str\n",
    "    job_name : str\n",
    "    priority : int"
   ]
  },
  {
   "cell_type": "code",
   "execution_count": 7,
   "metadata": {},
   "outputs": [],
   "source": [
    "def to_string_time(t):\n",
    "    if t == 'круглосуточно':\n",
    "        return '00:00', '24:00'\n",
    "    else:\n",
    "        s, f = map(int, t.split('-'))\n",
    "        return str(s)+':00', str(f)+':00'"
   ]
  },
  {
   "cell_type": "code",
   "execution_count": 8,
   "metadata": {},
   "outputs": [],
   "source": [
    "agents = list([])\n",
    "for i, row in curier_xl.iterrows():\n",
    "    tAgent = EAptekaAgent(id = i,\n",
    "                          name = row['Сотрудник'], \n",
    "                          job_name = row['Должность'], \n",
    "                          priority = row['Приоритет'])\n",
    "    \n",
    "    costs = {'fixed' : row['Стоимость 1 заказа']}\n",
    "    work_start, work_finish = to_string_time(row['Интервал работы'])\n",
    "    agents.append(Agent(type = tAgent,\n",
    "                         costs=costs,\n",
    "                         value = None,\n",
    "                         start_time=work_start,\n",
    "                         end_time=work_finish,\n",
    "                         start_place=None,\n",
    "                         end_place=None\n",
    "    ))"
   ]
  },
  {
   "cell_type": "code",
   "execution_count": 9,
   "metadata": {},
   "outputs": [],
   "source": [
    "with gzip.open('agents.pkl.gz', 'wb') as f:\n",
    "        pickle.dump(agents, file=f, protocol=pickle.HIGHEST_PROTOCOL)"
   ]
  },
  {
   "cell_type": "markdown",
   "metadata": {},
   "source": [
    "# Склады"
   ]
  },
  {
   "cell_type": "code",
   "execution_count": 10,
   "metadata": {},
   "outputs": [],
   "source": [
    "depots_xl = pd.read_excel('./Склады.xlsx')"
   ]
  },
  {
   "cell_type": "code",
   "execution_count": 11,
   "metadata": {},
   "outputs": [
    {
     "data": {
      "text/html": [
       "<div>\n",
       "<style scoped>\n",
       "    .dataframe tbody tr th:only-of-type {\n",
       "        vertical-align: middle;\n",
       "    }\n",
       "\n",
       "    .dataframe tbody tr th {\n",
       "        vertical-align: top;\n",
       "    }\n",
       "\n",
       "    .dataframe thead th {\n",
       "        text-align: right;\n",
       "    }\n",
       "</style>\n",
       "<table border=\"1\" class=\"dataframe\">\n",
       "  <thead>\n",
       "    <tr style=\"text-align: right;\">\n",
       "      <th></th>\n",
       "      <th>Наименование</th>\n",
       "      <th>Адрес</th>\n",
       "      <th>График работы</th>\n",
       "      <th>Широта</th>\n",
       "      <th>Долгота</th>\n",
       "    </tr>\n",
       "  </thead>\n",
       "  <tbody>\n",
       "    <tr>\n",
       "      <th>0</th>\n",
       "      <td>Мск, 1905 года 7</td>\n",
       "      <td>Москва г, 1905 года ул, дом № 7, строение 1   ...</td>\n",
       "      <td>09-21</td>\n",
       "      <td>55.762100</td>\n",
       "      <td>37.558670</td>\n",
       "    </tr>\n",
       "    <tr>\n",
       "      <th>1</th>\n",
       "      <td>Мск, Бауманская 62-66</td>\n",
       "      <td>Москва г, Бауманская ул, дом № 62-66, строение...</td>\n",
       "      <td>09-21</td>\n",
       "      <td>55.766116</td>\n",
       "      <td>37.678837</td>\n",
       "    </tr>\n",
       "  </tbody>\n",
       "</table>\n",
       "</div>"
      ],
      "text/plain": [
       "                Наименование  \\\n",
       "0  Мск, 1905 года 7            \n",
       "1  Мск, Бауманская 62-66       \n",
       "\n",
       "                                               Адрес График работы     Широта  \\\n",
       "0  Москва г, 1905 года ул, дом № 7, строение 1   ...         09-21  55.762100   \n",
       "1  Москва г, Бауманская ул, дом № 62-66, строение...         09-21  55.766116   \n",
       "\n",
       "     Долгота  \n",
       "0  37.558670  \n",
       "1  37.678837  "
      ]
     },
     "execution_count": 11,
     "metadata": {},
     "output_type": "execute_result"
    }
   ],
   "source": [
    "depots_xl.head(2)"
   ]
  },
  {
   "cell_type": "code",
   "execution_count": 12,
   "metadata": {},
   "outputs": [],
   "source": [
    "@dataclass\n",
    "class EAptekaDepot:\n",
    "    id : int\n",
    "    name : str\n",
    "    addres : str\n",
    "    longitude : float\n",
    "    latitude : float\n",
    "    start_time : str\n",
    "    end_time : str"
   ]
  },
  {
   "cell_type": "code",
   "execution_count": 13,
   "metadata": {},
   "outputs": [],
   "source": [
    "depots = list([])\n",
    "coords = list([])\n",
    "\n",
    "depots_name_id_dict = dict({})\n",
    "for i, row in depots_xl.iterrows():\n",
    "    start_time, end_time = to_string_time(row['График работы'])\n",
    "    depots_name_id_dict[row['Наименование']] = i\n",
    "    \n",
    "    coords.append(Point(lon = float(row['Долгота']), lat = float(row['Широта'])))\n",
    "    \n",
    "    depots.append(EAptekaDepot(id =i,\n",
    "                                name = row['Наименование'],\n",
    "                                addres = row['Адрес'],\n",
    "                                longitude=float(row['Долгота']),\n",
    "                                latitude=float(row['Широта']),\n",
    "                                start_time = start_time,\n",
    "                                end_time = end_time\n",
    "    ))"
   ]
  },
  {
   "cell_type": "code",
   "execution_count": 14,
   "metadata": {},
   "outputs": [],
   "source": [
    "with gzip.open('depots.pkl.gz', 'wb') as f:\n",
    "        pickle.dump(depots, file=f, protocol=pickle.HIGHEST_PROTOCOL)"
   ]
  },
  {
   "cell_type": "markdown",
   "metadata": {},
   "source": [
    "# Заказы"
   ]
  },
  {
   "cell_type": "code",
   "execution_count": 15,
   "metadata": {},
   "outputs": [],
   "source": [
    "orders_lx = pd.read_excel('./Заказы_13.xlsx')\n",
    "orders_coords_xl = pd.read_excel('./eapteka_result.xlsx')"
   ]
  },
  {
   "cell_type": "code",
   "execution_count": 16,
   "metadata": {},
   "outputs": [
    {
     "data": {
      "text/html": [
       "<div>\n",
       "<style scoped>\n",
       "    .dataframe tbody tr th:only-of-type {\n",
       "        vertical-align: middle;\n",
       "    }\n",
       "\n",
       "    .dataframe tbody tr th {\n",
       "        vertical-align: top;\n",
       "    }\n",
       "\n",
       "    .dataframe thead th {\n",
       "        text-align: right;\n",
       "    }\n",
       "</style>\n",
       "<table border=\"1\" class=\"dataframe\">\n",
       "  <thead>\n",
       "    <tr style=\"text-align: right;\">\n",
       "      <th></th>\n",
       "      <th>Номер</th>\n",
       "      <th>ДатаДоставки</th>\n",
       "      <th>Склад</th>\n",
       "      <th>ЗонаДоставки</th>\n",
       "      <th>ИнтервалДоставки</th>\n",
       "      <th>АдресДоставки</th>\n",
       "      <th>СуммаДокумента</th>\n",
       "      <th>ВесЗаказа</th>\n",
       "      <th>ОбъемЗаказа</th>\n",
       "      <th>КомментарийКлиента</th>\n",
       "      <th>Приоритет</th>\n",
       "      <th>Unnamed: 11</th>\n",
       "      <th>Unnamed: 12</th>\n",
       "      <th>Unnamed: 13</th>\n",
       "      <th>Unnamed: 14</th>\n",
       "      <th>Unnamed: 15</th>\n",
       "      <th>Unnamed: 16</th>\n",
       "    </tr>\n",
       "  </thead>\n",
       "  <tbody>\n",
       "    <tr>\n",
       "      <th>0</th>\n",
       "      <td>10848260</td>\n",
       "      <td>13.09.2020 0:00:00</td>\n",
       "      <td>Мск, Марьина роща склад</td>\n",
       "      <td>Я1</td>\n",
       "      <td>Доставка с 12:00 по 14:00</td>\n",
       "      <td>Москва, Королев г, Коминтерна улица, д.15</td>\n",
       "      <td>4900.0</td>\n",
       "      <td>NaN</td>\n",
       "      <td>0.140</td>\n",
       "      <td>ПЛАНЕТА ЗДОРОВЬЯ Королев, Коминтерна ул, 15, Ч...</td>\n",
       "      <td>NaN</td>\n",
       "      <td>NaN</td>\n",
       "      <td>NaN</td>\n",
       "      <td>NaN</td>\n",
       "      <td>NaN</td>\n",
       "      <td>NaN</td>\n",
       "      <td>NaN</td>\n",
       "    </tr>\n",
       "    <tr>\n",
       "      <th>1</th>\n",
       "      <td>9133952</td>\n",
       "      <td>13.09.2020 0:00:00</td>\n",
       "      <td>Мск, Марьина роща склад</td>\n",
       "      <td>55</td>\n",
       "      <td>Доставка с 09:00 по 18:00</td>\n",
       "      <td>Москва, Ангарская улица, 67к1</td>\n",
       "      <td>1486.0</td>\n",
       "      <td>0.972</td>\n",
       "      <td>8.084</td>\n",
       "      <td>NaN</td>\n",
       "      <td>NaN</td>\n",
       "      <td>NaN</td>\n",
       "      <td>NaN</td>\n",
       "      <td>NaN</td>\n",
       "      <td>NaN</td>\n",
       "      <td>NaN</td>\n",
       "      <td>NaN</td>\n",
       "    </tr>\n",
       "  </tbody>\n",
       "</table>\n",
       "</div>"
      ],
      "text/plain": [
       "      Номер        ДатаДоставки                    Склад ЗонаДоставки  \\\n",
       "0  10848260  13.09.2020 0:00:00  Мск, Марьина роща склад           Я1   \n",
       "1   9133952  13.09.2020 0:00:00  Мск, Марьина роща склад           55   \n",
       "\n",
       "            ИнтервалДоставки                              АдресДоставки  \\\n",
       "0  Доставка с 12:00 по 14:00  Москва, Королев г, Коминтерна улица, д.15   \n",
       "1  Доставка с 09:00 по 18:00              Москва, Ангарская улица, 67к1   \n",
       "\n",
       "   СуммаДокумента  ВесЗаказа  ОбъемЗаказа  \\\n",
       "0          4900.0        NaN        0.140   \n",
       "1          1486.0      0.972        8.084   \n",
       "\n",
       "                                  КомментарийКлиента  Приоритет  Unnamed: 11  \\\n",
       "0  ПЛАНЕТА ЗДОРОВЬЯ Королев, Коминтерна ул, 15, Ч...        NaN          NaN   \n",
       "1                                                NaN        NaN          NaN   \n",
       "\n",
       "   Unnamed: 12  Unnamed: 13  Unnamed: 14  Unnamed: 15  Unnamed: 16  \n",
       "0          NaN          NaN          NaN          NaN          NaN  \n",
       "1          NaN          NaN          NaN          NaN          NaN  "
      ]
     },
     "execution_count": 16,
     "metadata": {},
     "output_type": "execute_result"
    }
   ],
   "source": [
    "orders_lx.head(2)"
   ]
  },
  {
   "cell_type": "code",
   "execution_count": 17,
   "metadata": {},
   "outputs": [
    {
     "data": {
      "text/html": [
       "<div>\n",
       "<style scoped>\n",
       "    .dataframe tbody tr th:only-of-type {\n",
       "        vertical-align: middle;\n",
       "    }\n",
       "\n",
       "    .dataframe tbody tr th {\n",
       "        vertical-align: top;\n",
       "    }\n",
       "\n",
       "    .dataframe thead th {\n",
       "        text-align: right;\n",
       "    }\n",
       "</style>\n",
       "<table border=\"1\" class=\"dataframe\">\n",
       "  <thead>\n",
       "    <tr style=\"text-align: right;\">\n",
       "      <th></th>\n",
       "      <th>Unnamed: 0</th>\n",
       "      <th>Адрес из Excel</th>\n",
       "      <th>Коммент из Excel</th>\n",
       "      <th>Адрес из геокодера</th>\n",
       "      <th>Долгота</th>\n",
       "      <th>Широта</th>\n",
       "    </tr>\n",
       "  </thead>\n",
       "  <tbody>\n",
       "    <tr>\n",
       "      <th>0</th>\n",
       "      <td>0</td>\n",
       "      <td>Москва, Королев г, Коминтерна улица, д.15</td>\n",
       "      <td>ПЛАНЕТА ЗДОРОВЬЯ Королев, Коминтерна ул, 15, Ч...</td>\n",
       "      <td>Россия, Московская область, Королёв, улица Ком...</td>\n",
       "      <td>55.923992</td>\n",
       "      <td>37.813854</td>\n",
       "    </tr>\n",
       "    <tr>\n",
       "      <th>1</th>\n",
       "      <td>1</td>\n",
       "      <td>Москва, Ангарская улица, 67к1</td>\n",
       "      <td>NaN</td>\n",
       "      <td>Россия, Москва, Ангарская улица, 67 к1</td>\n",
       "      <td>55.885930</td>\n",
       "      <td>37.525600</td>\n",
       "    </tr>\n",
       "  </tbody>\n",
       "</table>\n",
       "</div>"
      ],
      "text/plain": [
       "   Unnamed: 0                             Адрес из Excel  \\\n",
       "0           0  Москва, Королев г, Коминтерна улица, д.15   \n",
       "1           1              Москва, Ангарская улица, 67к1   \n",
       "\n",
       "                                    Коммент из Excel  \\\n",
       "0  ПЛАНЕТА ЗДОРОВЬЯ Королев, Коминтерна ул, 15, Ч...   \n",
       "1                                                NaN   \n",
       "\n",
       "                                  Адрес из геокодера    Долгота     Широта  \n",
       "0  Россия, Московская область, Королёв, улица Ком...  55.923992  37.813854  \n",
       "1             Россия, Москва, Ангарская улица, 67 к1  55.885930  37.525600  "
      ]
     },
     "execution_count": 17,
     "metadata": {},
     "output_type": "execute_result"
    }
   ],
   "source": [
    "orders_coords_xl.head(2)"
   ]
  },
  {
   "cell_type": "code",
   "execution_count": 18,
   "metadata": {},
   "outputs": [],
   "source": [
    "orders_all_xl = pd.concat([orders_lx, orders_coords_xl.reindex(orders_lx.index)], axis=1)"
   ]
  },
  {
   "cell_type": "code",
   "execution_count": 19,
   "metadata": {},
   "outputs": [],
   "source": [
    "#Проверка.\n",
    "for row in orders_all_xl[['Адрес из Excel', 'АдресДоставки']].values:\n",
    "    if not (row[0] == row[1]):\n",
    "        print('Не совпадают!:', row[0], row[1])"
   ]
  },
  {
   "cell_type": "code",
   "execution_count": 20,
   "metadata": {},
   "outputs": [],
   "source": [
    "from datetime import datetime, timedelta"
   ]
  },
  {
   "cell_type": "code",
   "execution_count": 21,
   "metadata": {},
   "outputs": [],
   "source": [
    "@dataclass\n",
    "class EAptekaOrder(Job):\n",
    "    order_id : int\n",
    "    #id : int\n",
    "    geocoder_addres : str\n",
    "    longitude : float\n",
    "    latitude : float\n",
    "    #tw_start : datetime\n",
    "    #tw_end : datetime\n",
    "    order_zone: str\n",
    "    depot_id : int\n",
    "    weight : float\n",
    "    volume : float\n",
    "    price : float\n",
    "    comment : str"
   ]
  },
  {
   "cell_type": "code",
   "execution_count": 22,
   "metadata": {},
   "outputs": [],
   "source": [
    "time_dict = dict({})\n",
    "l = orders_all_xl['ИнтервалДоставки'].values\n",
    "\n",
    "for st in set(l):\n",
    "    tup = ['00:00', '00:00']\n",
    "    \n",
    "    if st.split()[2] not in {'с', 'по'}:\n",
    "        tup[0] = st.split()[2]\n",
    "        \n",
    "    if st.split()[-1] not in {'с', 'по'}:\n",
    "        tup[1] = st.split()[-1]\n",
    "\n",
    "    time_dict[st] = tup"
   ]
  },
  {
   "cell_type": "code",
   "execution_count": 23,
   "metadata": {},
   "outputs": [
    {
     "data": {
      "text/plain": [
       "{'Доставка с 21:00 по 23:35': ['21:00', '23:35'],\n",
       " 'Доставка с 09:00 по 18:00': ['09:00', '18:00'],\n",
       " 'Доставка с 10:00 по 11:00': ['10:00', '11:00'],\n",
       " 'Доставка с 11:18 по 17:18': ['11:18', '17:18'],\n",
       " 'Доставка с 09:00 по 13:00': ['09:00', '13:00'],\n",
       " 'Доставка с 11:00 по 15:00': ['11:00', '15:00'],\n",
       " 'Доставка с 17:00 по 23:00': ['17:00', '23:00'],\n",
       " 'Доставка с 12:00 по 16:00': ['12:00', '16:00'],\n",
       " 'Доставка с 09:00 по 15:00': ['09:00', '15:00'],\n",
       " 'Доставка с 20:00 по ': ['20:00', '00:00'],\n",
       " 'Доставка с 18:00 по 23:00': ['18:00', '23:00'],\n",
       " 'Доставка с 15:00 по 21:00': ['15:00', '21:00'],\n",
       " 'Доставка с 06:00 по 09:00': ['06:00', '09:00'],\n",
       " 'Доставка с 13:00 по 19:00': ['13:00', '19:00'],\n",
       " 'Доставка с 21:00 по ': ['21:00', '00:00'],\n",
       " 'Доставка с 09:00 по 12:00': ['09:00', '12:00'],\n",
       " 'Доставка с 10:00 по 16:00': ['10:00', '16:00'],\n",
       " 'Доставка с 08:00 по 14:00': ['08:00', '14:00'],\n",
       " 'Доставка с 14:00 по 20:00': ['14:00', '20:00'],\n",
       " 'Доставка с 12:00 по 18:00': ['12:00', '18:00'],\n",
       " 'Доставка с  по 03:00': ['00:00', '03:00'],\n",
       " 'Доставка с 19:00 по 01:00': ['19:00', '01:00'],\n",
       " 'Доставка с 04:06 по 04:06': ['04:06', '04:06'],\n",
       " 'Доставка с 10:00 по 19:00': ['10:00', '19:00'],\n",
       " 'Доставка с 18:00 по 22:00': ['18:00', '22:00'],\n",
       " 'Доставка с 12:00 по 14:00': ['12:00', '14:00']}"
      ]
     },
     "execution_count": 23,
     "metadata": {},
     "output_type": "execute_result"
    }
   ],
   "source": [
    "#Проверка:\n",
    "time_dict"
   ]
  },
  {
   "cell_type": "code",
   "execution_count": 24,
   "metadata": {},
   "outputs": [],
   "source": [
    "def make_tw(date, tw):\n",
    "    l, r = time_dict[tw]\n",
    "    l = datetime.strptime(date[:-len(l)]+l, '%d.%m.%Y %H:%M:%S')\n",
    "    r = datetime.strptime(date[:-len(r)]+r, '%d.%m.%Y %H:%M:%S')\n",
    "    \n",
    "    if time_dict[tw][1] < time_dict[tw][0]:\n",
    "        r = r + timedelta(days=1)\n",
    "        \n",
    "    return l, r"
   ]
  },
  {
   "cell_type": "code",
   "execution_count": 25,
   "metadata": {},
   "outputs": [],
   "source": [
    "orders = list([])\n",
    "start_id = len(coords)\n",
    "\n",
    "for i, row in orders_all_xl.iterrows():\n",
    "        tw_start, tw_end = make_tw(row['ДатаДоставки'], row['ИнтервалДоставки'])\n",
    "        try:\n",
    "            coords.append(Point(lat = float(row['Широта']), lon = float(row['Долгота'])))\n",
    "        \n",
    "            orders.append(EAptekaOrder(\n",
    "                order_id  = row['Номер'],\n",
    "                id= i+start_id,\n",
    "                geocoder_addres = row['Адрес из геокодера'],\n",
    "                longitude = float(row['Долгота']),\n",
    "                latitude = float(row['Широта']),\n",
    "                tw_start =tw_start,\n",
    "                tw_end = tw_end,\n",
    "                order_zone = row['ЗонаДоставки'],\n",
    "                depot_id = depots_name_id_dict[row['Склад']],\n",
    "                weight  = float(row['ВесЗаказа']),\n",
    "                volume = float(row['ОбъемЗаказа']),\n",
    "                price = float(row['СуммаДокумента']),\n",
    "                comment = row['КомментарийКлиента'],\n",
    "                delay = None,\n",
    "                demand = None,\n",
    "\n",
    "            ))\n",
    "        except:\n",
    "            print(i, row['Долгота'], row['Широта'])"
   ]
  },
  {
   "cell_type": "code",
   "execution_count": 26,
   "metadata": {},
   "outputs": [],
   "source": [
    "with gzip.open('orders.pkl.gz', 'wb') as f:\n",
    "        pickle.dump(orders, file=f, protocol=pickle.HIGHEST_PROTOCOL)\n",
    "\n",
    "with gzip.open('orders_coords.pkl.gz', 'wb') as f:\n",
    "        pickle.dump(coords, file=f, protocol=pickle.HIGHEST_PROTOCOL)"
   ]
  },
  {
   "cell_type": "markdown",
   "metadata": {},
   "source": [
    "# Матрица расстояний"
   ]
  },
  {
   "cell_type": "code",
   "execution_count": 36,
   "metadata": {},
   "outputs": [
    {
     "name": "stdout",
     "output_type": "stream",
     "text": [
      "Номер в Excel: 466 / Strange point detected 59.106968 38.778847\n",
      "Номер в Excel: 500 / Strange point detected 51.666855 36.089752000000004\n",
      "Номер в Excel: 573 / Strange point detected 50.642296 36.566615999999996\n",
      "Номер в Excel: 598 / Strange point detected 57.3357 38.2412\n",
      "Номер в Excel: 753 / Strange point detected 45.351875 37.103535\n",
      "Номер в Excel: 755 / Strange point detected 60.416340000000005 39.43523\n",
      "Номер в Excel: 799 / Strange point detected 53.770416000000004 38.11027\n",
      "Номер в Excel: 880 / Strange point detected 51.725533 36.099922\n",
      "Номер в Excel: 1012 / Strange point detected 45.351875 37.103535\n",
      "Номер в Excel: 1242 / Strange point detected 50.61574 38.68185\n",
      "Номер в Excel: 1301 / Strange point detected 51.778397 36.20394\n",
      "Номер в Excel: 1356 / Strange point detected 58.033843999999995 38.846270000000004\n",
      "Номер в Excel: 1426 / Strange point detected 51.267193 37.5214\n",
      "Номер в Excel: 1431 / Strange point detected 51.234035 35.669556\n",
      "Номер в Excel: 1691 / Strange point detected 52.67525500000001 39.13827\n",
      "Номер в Excel: 1745 / Strange point detected 51.666855 36.089752000000004\n",
      "Номер в Excel: 1861 / Strange point detected 45.351875 37.103535\n",
      "Номер в Excel: 1981 / Strange point detected 51.8185 36.200615\n",
      "Номер в Excel: 2087 / Strange point detected 45.351875 37.103535\n",
      "Номер в Excel: 2234 / Strange point detected 44.06366 39.121303999999995\n",
      "Номер в Excel: 2460 / Strange point detected 50.635742 38.645195\n",
      "Номер в Excel: 2520 / Strange point detected 44.74407 37.77212\n",
      "Номер в Excel: 2719 / Strange point detected 51.71852 39.492783\n",
      "Номер в Excel: 2861 / Strange point detected 58.028180000000006 38.941265\n",
      "Номер в Excel: 3058 / Strange point detected 45.351875 37.103535\n",
      "Номер в Excel: 3122 / Strange point detected 45.13818 38.904533\n",
      "Номер в Excel: 3198 / Strange point detected 45.351875 37.103535\n",
      "Номер в Excel: 3281 / Strange point detected 51.66557 36.08613\n",
      "Номер в Excel: 3365 / Strange point detected 51.73076 36.217525\n",
      "Номер в Excel: 3475 / Strange point detected 51.8185 36.200615\n",
      "Номер в Excel: 3672 / Strange point detected 51.756306 36.253456\n",
      "Номер в Excel: 3692 / Strange point detected 45.351875 37.103535\n",
      "Номер в Excel: 3827 / Strange point detected 45.351875 37.103535\n",
      "Номер в Excel: 4457 / Strange point detected 44.630558 39.156578\n",
      "Номер в Excel: 4586 / Strange point detected 45.351875 37.103535\n",
      "Номер в Excel: 4742 / Strange point detected 45.351875 37.103535\n",
      "Номер в Excel: 4771 / Strange point detected 30.833332000000002 35.6\n",
      "Номер в Excel: 4823 / Strange point detected 45.351875 37.103535\n",
      "Номер в Excel: 4919 / Strange point detected 44.630558 39.156578\n",
      "Номер в Excel: 5084 / Strange point detected 45.351875 37.103535\n",
      "Номер в Excel: 5243 / Strange point detected 53.341319999999996 35.603671999999996\n",
      "Номер в Excel: 5266 / Strange point detected 53.146515 35.161617\n",
      "Номер в Excel: 5267 / Strange point detected 50.956103999999996 35.61072\n",
      "Номер в Excel: 5289 / Strange point detected 44.98195 38.935340000000004\n",
      "Номер в Excel: 5299 / Strange point detected 50.63252 38.69777\n",
      "Номер в Excel: 5386 / Strange point detected 45.351875 37.103535\n",
      "Номер в Excel: 5468 / Strange point detected 47.21441 38.90781\n",
      "Номер в Excel: 5570 / Strange point detected 51.35735 37.904022\n",
      "Номер в Excel: 5676 / Strange point detected 45.351875 37.103535\n",
      "Номер в Excel: 5840 / Strange point detected 51.537468 37.938145\n",
      "Номер в Excel: 5841 / Strange point detected 45.351875 37.103535\n",
      "Номер в Excel: 5917 / Strange point detected 44.630558 39.156578\n",
      "Номер в Excel: 6172 / Strange point detected 45.351875 37.103535\n",
      "Номер в Excel: 6189 / Strange point detected 45.351875 37.103535\n",
      "Номер в Excel: 6250 / Strange point detected 45.351875 37.103535\n",
      "Номер в Excel: 6288 / Strange point detected 45.351875 37.103535\n",
      "Номер в Excel: 6417 / Strange point detected 50.606094 38.67597\n",
      "Номер в Excel: 6432 / Strange point detected 45.351875 37.103535\n",
      "Номер в Excel: 6572 / Strange point detected 53.770416000000004 38.11027\n"
     ]
    }
   ],
   "source": [
    "for i, p in enumerate(coords):\n",
    "    if np.isnan(p.lat) or np.isnan(p.lon):\n",
    "        print(i, \"Nans detected\", p.lat, p.lon)\n",
    "    elif not (54.288066 < p.lat < 57.172201) and (34.619289 < p.lon < 39.724750):\n",
    "        print('Номер в Excel:', i-11, '/ Strange point detected', p.lat, p.lon)"
   ]
  },
  {
   "cell_type": "code",
   "execution_count": 28,
   "metadata": {},
   "outputs": [],
   "source": [
    "from geo.martices.osrm import get_osrm_matrix\n",
    "from geo.martices.osrm import fix_matrix\n",
    "import os"
   ]
  },
  {
   "cell_type": "markdown",
   "metadata": {},
   "source": [
    "Первые индексы матрицы отвечают складам, а дельше уже заказам."
   ]
  },
  {
   "cell_type": "code",
   "execution_count": 29,
   "metadata": {},
   "outputs": [],
   "source": [
    "os.environ[\"OSRM_HOST\"] = \"desktop\"\n",
    "os.environ[\"OSRM_PORT\"] = '5000'"
   ]
  },
  {
   "cell_type": "code",
   "execution_count": 30,
   "metadata": {},
   "outputs": [
    {
     "name": "stdout",
     "output_type": "stream",
     "text": [
      "Не нашли в кеше. Обновляем матрицу расстояний...\n"
     ]
    }
   ],
   "source": [
    "route_matrix = get_osrm_matrix(tuple(coords))"
   ]
  },
  {
   "cell_type": "code",
   "execution_count": 33,
   "metadata": {},
   "outputs": [],
   "source": [
    "tuple_coords = list([])\n",
    "for p in coords:\n",
    "    tuple_coords.append((p.lat, p.lon))"
   ]
  },
  {
   "cell_type": "code",
   "execution_count": 34,
   "metadata": {},
   "outputs": [],
   "source": [
    "route_matrix = fix_matrix(route_matrix, tuple_coords, 1.23)"
   ]
  },
  {
   "cell_type": "code",
   "execution_count": 35,
   "metadata": {},
   "outputs": [],
   "source": [
    "with gzip.open('route_matrix.pkl.gz', 'wb') as f:\n",
    "        pickle.dump(route_matrix, file=f, protocol=pickle.HIGHEST_PROTOCOL)"
   ]
  }
 ],
 "metadata": {
  "kernelspec": {
   "display_name": "Python 3",
   "language": "python",
   "name": "python3"
  },
  "language_info": {
   "codemirror_mode": {
    "name": "ipython",
    "version": 3
   },
   "file_extension": ".py",
   "mimetype": "text/x-python",
   "name": "python",
   "nbconvert_exporter": "python",
   "pygments_lexer": "ipython3",
   "version": "3.8.5"
  }
 },
 "nbformat": 4,
 "nbformat_minor": 4
}
